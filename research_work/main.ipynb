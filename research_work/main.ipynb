{
 "cells": [
  {
   "cell_type": "code",
   "execution_count": null,
   "metadata": {},
   "outputs": [],
   "source": [
    "import pandas as pd\n",
    "import matplotlib\n",
    "import matplotlib.pyplot as plt\n",
    "import numpy as np"
   ]
  },
  {
   "cell_type": "code",
   "execution_count": null,
   "metadata": {},
   "outputs": [],
   "source": [
    "from catboost import CatBoostClassifier\n",
    "from catboost import Pool, cv"
   ]
  },
  {
   "cell_type": "code",
   "execution_count": null,
   "metadata": {},
   "outputs": [],
   "source": [
    "from sklearn.model_selection import train_test_split, cross_val_score\n",
    "from sklearn.preprocessing import StandardScaler\n",
    "from sklearn.model_selection import KFold\n",
    "from sklearn.ensemble import RandomForestClassifier\n",
    "from sklearn.metrics import roc_auc_score, accuracy_score, f1_score, roc_curve, log_loss\n",
    "from sklearn.model_selection import GridSearchCV"
   ]
  },
  {
   "cell_type": "code",
   "execution_count": null,
   "metadata": {},
   "outputs": [],
   "source": [
    "from tqdm.notebook import tqdm"
   ]
  },
  {
   "cell_type": "code",
   "execution_count": null,
   "metadata": {},
   "outputs": [],
   "source": [
    "# Const\n",
    "CSV_FILE = \"data.csv\"\n",
    "CAT_ENCODE = ['is_phone_bad', 'is_email_bad', 'is_first_paymant_by_paypal', 'is_ip_bad']\n",
    "cat_features = ['is_phone_bad', 'is_email_bad', 'is_ip_bad', 'is_first_paymant_by_paypal',\n",
    "                'locale', 'currency', 'dont_send_docs', 'is_inn_exist', \n",
    "                'is_vkontakte_id_exist', 'news_subscribe', 'is_export_to_1c', 'is_bik_exist']"
   ]
  },
  {
   "cell_type": "code",
   "execution_count": null,
   "metadata": {},
   "outputs": [],
   "source": [
    "#print(tqdm.__version__)"
   ]
  },
  {
   "cell_type": "markdown",
   "metadata": {},
   "source": [
    "# Первичное изучение данных"
   ]
  },
  {
   "cell_type": "code",
   "execution_count": null,
   "metadata": {},
   "outputs": [],
   "source": [
    "data = pd.read_csv(CSV_FILE)\n",
    "data"
   ]
  },
  {
   "cell_type": "code",
   "execution_count": null,
   "metadata": {},
   "outputs": [],
   "source": [
    "print('shape of data:', data.shape)\n",
    "data.isna().sum(axis=0)"
   ]
  },
  {
   "cell_type": "code",
   "execution_count": null,
   "metadata": {},
   "outputs": [],
   "source": [
    "# Эти данные не заполнены (почти) => дропаем\n",
    "data = data.drop_duplicates()\n",
    "data = data.drop(['postcountry'], axis=1)"
   ]
  },
  {
   "cell_type": "code",
   "execution_count": null,
   "metadata": {},
   "outputs": [],
   "source": [
    "data.shape"
   ]
  },
  {
   "cell_type": "code",
   "execution_count": null,
   "metadata": {},
   "outputs": [],
   "source": [
    "data[data['score'] < 50]"
   ]
  },
  {
   "cell_type": "code",
   "execution_count": null,
   "metadata": {},
   "outputs": [],
   "source": [
    "len(data['country'].unique())"
   ]
  },
  {
   "cell_type": "code",
   "execution_count": null,
   "metadata": {},
   "outputs": [],
   "source": [
    "data['country'].value_counts()"
   ]
  },
  {
   "cell_type": "code",
   "execution_count": null,
   "metadata": {},
   "outputs": [],
   "source": [
    "data['email_domain'].value_counts()"
   ]
  },
  {
   "cell_type": "markdown",
   "metadata": {},
   "source": [
    "# Предварительная обработка данных"
   ]
  },
  {
   "cell_type": "code",
   "execution_count": null,
   "metadata": {
    "scrolled": true
   },
   "outputs": [],
   "source": [
    "data.isna().sum(axis=0)"
   ]
  },
  {
   "cell_type": "markdown",
   "metadata": {},
   "source": [
    "### is_phone_bad, is_email_bad, is_first_paymant_by_paypal  - предварительное кодирование метками\n",
    "None - 2     \n",
    "True - 1   \n",
    "False - 0"
   ]
  },
  {
   "cell_type": "code",
   "execution_count": null,
   "metadata": {},
   "outputs": [],
   "source": [
    "for i in CAT_ENCODE:\n",
    "    data[i].replace({False: 0, True: 1}, inplace=True)\n",
    "    data[i] = data[i].fillna(value=2)\n",
    "    data[i] = data[i].astype(int)"
   ]
  },
  {
   "cell_type": "code",
   "execution_count": null,
   "metadata": {},
   "outputs": [],
   "source": [
    "data['is_phone_bad'].value_counts()"
   ]
  },
  {
   "cell_type": "markdown",
   "metadata": {},
   "source": [
    "### country - пока проще дропнуть из-за смешанного англ. и русского + все равно нет нормальной корреляции"
   ]
  },
  {
   "cell_type": "code",
   "execution_count": null,
   "metadata": {},
   "outputs": [],
   "source": [
    "data = data.drop(['country'], axis=1)"
   ]
  },
  {
   "cell_type": "markdown",
   "metadata": {},
   "source": [
    "### email_domain  - частотное кодирование"
   ]
  },
  {
   "cell_type": "code",
   "execution_count": null,
   "metadata": {},
   "outputs": [],
   "source": [
    "fe = data.groupby('email_domain').size()/len(data)\n",
    "data['email_domain'] = data['email_domain'].map(fe)\n",
    "data"
   ]
  },
  {
   "cell_type": "code",
   "execution_count": null,
   "metadata": {},
   "outputs": [],
   "source": [
    "data.isna().sum(axis=0)"
   ]
  },
  {
   "cell_type": "markdown",
   "metadata": {},
   "source": [
    "# Изучение экспертного скоринга"
   ]
  },
  {
   "cell_type": "code",
   "execution_count": null,
   "metadata": {},
   "outputs": [],
   "source": [
    "data.score = data.score/100\n",
    "data['score'].value_counts()"
   ]
  },
  {
   "cell_type": "code",
   "execution_count": null,
   "metadata": {},
   "outputs": [],
   "source": [
    "data['blocked'].value_counts()"
   ]
  },
  {
   "cell_type": "code",
   "execution_count": null,
   "metadata": {},
   "outputs": [],
   "source": [
    "data_score = data[(data['score'] >0.9)]\n",
    "not_blocked = data_score.score[data_score['blocked'] == 0]\n",
    "not_blocked = not_blocked.value_counts()\n",
    "blocked = data_score.score[data_score['blocked'] == 1]\n",
    "blocked = blocked.value_counts()\n",
    "df = {'not blocked': not_blocked, 'blocked': blocked}\n",
    "df = pd.DataFrame(df)\n",
    "df.plot(kind='bar', figsize=(15, 15))\n",
    "plt.title('Экспертный скоринг')\n",
    "plt.show()"
   ]
  },
  {
   "cell_type": "code",
   "execution_count": null,
   "metadata": {},
   "outputs": [],
   "source": [
    "data_score = data[(data['score'] < 1)]\n",
    "not_blocked = data_score.score[data_score['blocked'] == 0]\n",
    "not_blocked = not_blocked.value_counts()\n",
    "blocked = data_score.score[data_score['blocked'] == 1]\n",
    "blocked = blocked.value_counts()\n",
    "df = {'not blocked': not_blocked, 'blocked': blocked}\n",
    "df = pd.DataFrame(df)\n",
    "df.plot(kind='bar', figsize=(15, 15))\n",
    "plt.title('Экспертный скоринг')\n",
    "plt.show()"
   ]
  },
  {
   "cell_type": "code",
   "execution_count": null,
   "metadata": {},
   "outputs": [],
   "source": [
    "data.corr()"
   ]
  },
  {
   "cell_type": "markdown",
   "metadata": {},
   "source": [
    "# Делим выборку на test и train"
   ]
  },
  {
   "cell_type": "code",
   "execution_count": null,
   "metadata": {},
   "outputs": [],
   "source": [
    "X = data.iloc[:, 1:-2]\n",
    "y = np.array(data.iloc[:, -1])"
   ]
  },
  {
   "cell_type": "code",
   "execution_count": null,
   "metadata": {},
   "outputs": [],
   "source": [
    "X_train, X_test, y_train, y_test = train_test_split(X, y, test_size=0.2)\n",
    "X_train"
   ]
  },
  {
   "cell_type": "markdown",
   "metadata": {},
   "source": [
    "# Градиентный бустинг с catboost"
   ]
  },
  {
   "cell_type": "code",
   "execution_count": null,
   "metadata": {},
   "outputs": [],
   "source": [
    "cv_dataset = Pool(data=X,\n",
    "                  label=y,\n",
    "                  cat_features=cat_features)\n",
    "params = {\"iterations\": 150,\n",
    "#           \"depth\": 2,\n",
    "          \"loss_function\": \"Logloss\",\n",
    "          \"verbose\": False,\n",
    "          \"custom_loss\": ['AUC', 'Accuracy'],\n",
    "          \"roc_file\": \"roc-file\"}\n",
    "\n",
    "scores = cv(cv_dataset,\n",
    "            params,\n",
    "            fold_count=5, \n",
    "            plot=\"True\")"
   ]
  },
  {
   "cell_type": "code",
   "execution_count": null,
   "metadata": {},
   "outputs": [],
   "source": [
    "model = CatBoostClassifier(\n",
    "#    thread_count = -1,\n",
    "   iterations=150,\n",
    "   custom_loss=['AUC', 'Accuracy'],\n",
    "   loss_function=\"Logloss\",\n",
    "   use_best_model=True\n",
    ")"
   ]
  },
  {
   "cell_type": "code",
   "execution_count": null,
   "metadata": {},
   "outputs": [],
   "source": [
    "model.fit(\n",
    "   X_train, y_train,\n",
    "   cat_features=cat_features,\n",
    "   eval_set=(X_test, y_test),\n",
    "   plot=True\n",
    ")"
   ]
  },
  {
   "cell_type": "markdown",
   "metadata": {},
   "source": [
    "# Исследование результатов GB"
   ]
  },
  {
   "cell_type": "code",
   "execution_count": null,
   "metadata": {},
   "outputs": [],
   "source": [
    "data_score_proba = model.predict_proba(X_test)\n",
    "data_score_proba = data_score_proba[:,0]\n",
    "for i in range(len(data_score_proba)):\n",
    "    if data_score_proba[i] > 0.95:\n",
    "        data_score_proba[i] = 1\n",
    "    elif data_score_proba[i] > 0.85:\n",
    "        data_score_proba[i] = 0.9\n",
    "    elif data_score_proba[i] > 0.75:\n",
    "        data_score_proba[i] = 0.8\n",
    "    elif data_score_proba[i] > 0.65:\n",
    "        data_score_proba[i] = 0.7\n",
    "    elif data_score_proba[i] > 0.55:\n",
    "        data_score_proba[i] = 0.6\n",
    "    elif data_score_proba[i] > 0.45:\n",
    "        data_score_proba[i] = 0.5\n",
    "    elif data_score_proba[i] > 0.35:\n",
    "        data_score_proba[i] = 0.4\n",
    "    elif data_score_proba[i] > 0.25:\n",
    "        data_score_proba[i] = 0.3\n",
    "    elif data_score_proba[i] > 0.15:\n",
    "        data_score_proba[i] = 0.2\n",
    "    elif data_score_proba[i] > 0.05:\n",
    "        data_score_proba[i] = 0.1\n",
    "    else:\n",
    "        data_score_proba[i] = 0\n",
    "data_score_proba = pd.DataFrame(data_score_proba)\n",
    "data_score_proba['blocked'] = y_test\n",
    "data_score_proba"
   ]
  },
  {
   "cell_type": "code",
   "execution_count": null,
   "metadata": {},
   "outputs": [],
   "source": [
    "data_score = data_score_proba[(data_score_proba[0] > 0.99)]\n",
    "not_blocked = data_score[0][data_score['blocked'] == 0]\n",
    "not_blocked = not_blocked.value_counts()\n",
    "blocked = data_score[0][data_score['blocked'] == 1]\n",
    "blocked = blocked.value_counts()\n",
    "df = {'not blocked': not_blocked, 'blocked': blocked}\n",
    "df = pd.DataFrame(df)\n",
    "df.plot(kind='bar', figsize=(15, 15))\n",
    "plt.title('GB скоринг')\n",
    "plt.show()"
   ]
  },
  {
   "cell_type": "code",
   "execution_count": null,
   "metadata": {},
   "outputs": [],
   "source": [
    "data_score = data_score_proba[(data_score_proba[0] < 1)]\n",
    "not_blocked = data_score[0][data_score['blocked'] == 0]\n",
    "not_blocked = not_blocked.value_counts()\n",
    "blocked = data_score[0][data_score['blocked'] == 1]\n",
    "blocked = blocked.value_counts()\n",
    "df = {'not blocked': not_blocked, 'blocked': blocked}\n",
    "df = pd.DataFrame(df)\n",
    "df.plot(kind='bar', figsize=(15, 15))\n",
    "plt.title('GB скоринг')\n",
    "plt.show()"
   ]
  },
  {
   "cell_type": "markdown",
   "metadata": {},
   "source": [
    "# Кодирование категориальных признаков для Random forest"
   ]
  },
  {
   "cell_type": "code",
   "execution_count": null,
   "metadata": {},
   "outputs": [],
   "source": [
    "data = pd.read_csv(CSV_FILE)\n",
    "# Эти данные не заполнены (почти) => дропаем\n",
    "data = data.drop_duplicates()\n",
    "data = data.drop(['postcountry', 'country'], axis=1)\n",
    "data"
   ]
  },
  {
   "cell_type": "code",
   "execution_count": null,
   "metadata": {},
   "outputs": [],
   "source": [
    "fe = data.groupby('email_domain').size()/len(data)\n",
    "data['email_domain'] = data['email_domain'].map(fe)\n",
    "data"
   ]
  },
  {
   "cell_type": "code",
   "execution_count": null,
   "metadata": {},
   "outputs": [],
   "source": [
    "X = data.iloc[:, 1:-2]\n",
    "y = np.array(data.iloc[:, -1])"
   ]
  },
  {
   "cell_type": "code",
   "execution_count": null,
   "metadata": {},
   "outputs": [],
   "source": [
    "X = pd.get_dummies(X, dummy_na=True)\n",
    "X_train, X_test, y_train, y_test = train_test_split(X, y, test_size=0.2)\n",
    "X_train"
   ]
  },
  {
   "cell_type": "code",
   "execution_count": null,
   "metadata": {},
   "outputs": [],
   "source": [
    "X.isna().sum(axis=0)"
   ]
  },
  {
   "cell_type": "code",
   "execution_count": null,
   "metadata": {},
   "outputs": [],
   "source": [
    "scaler = StandardScaler()\n",
    "X = scaler.fit_transform(np.array(X, dtype = float))\n",
    "X_train = scaler.fit_transform(np.array(X_train, dtype = float))\n",
    "X_test = scaler.transform(np.array(X_test, dtype=float))\n",
    "X_train"
   ]
  },
  {
   "cell_type": "markdown",
   "metadata": {},
   "source": [
    "# Random forest с sklearn"
   ]
  },
  {
   "cell_type": "code",
   "execution_count": null,
   "metadata": {},
   "outputs": [],
   "source": [
    "MAX_TREES = 150\n",
    "\n",
    "values = np.arange(MAX_TREES) + 1\n",
    "kf = KFold(n_splits=5, shuffle=True, random_state=1234)\n",
    "global_scores = []\n",
    "\n",
    "for train_indices, val_indices in tqdm(kf.split(X_train), total=5):\n",
    "    scores = []\n",
    "    \n",
    "    X_train_kf = X_train[train_indices]\n",
    "    y_train_kf = y_train[train_indices]\n",
    "    \n",
    "    X_val_kf = X_train[val_indices]\n",
    "    y_val_kf = y_train[val_indices]\n",
    "    \n",
    "    forest = RandomForestClassifier(n_estimators=MAX_TREES)\n",
    "    forest.fit(X_train_kf, y_train_kf)\n",
    "    trees = forest.estimators_\n",
    "    \n",
    "    for number_of_trees in tqdm(values, leave=False):\n",
    "        thinned_forest = RandomForestClassifier(n_estimators=number_of_trees)    \n",
    "        thinned_forest.n_classes_ = 2\n",
    "        thinned_forest.estimators_ = trees[:number_of_trees]\n",
    "        scores.append(roc_auc_score(y_val_kf, thinned_forest.predict_proba(X_val_kf)[:, 1]))\n",
    "    \n",
    "    scores = np.array(scores)\n",
    "    global_scores.append(scores)\n",
    "\n",
    "global_scores = np.stack(global_scores, axis=0)"
   ]
  },
  {
   "cell_type": "code",
   "execution_count": null,
   "metadata": {},
   "outputs": [],
   "source": [
    "mean_cross_val_score = global_scores.mean(axis=0)\n",
    "std_cross_val_score = global_scores.std(axis=0)\n",
    "\n",
    "plt.figure(figsize=(15,8))\n",
    "plt.title('Quality of random forest')\n",
    "\n",
    "plt.plot(values, mean_cross_val_score, label='mean values', color='red', lw=3)\n",
    "plt.fill_between(values, \n",
    "                 mean_cross_val_score - 2 * std_cross_val_score, \n",
    "                 mean_cross_val_score + 2 * std_cross_val_score, \n",
    "                 color='green', \n",
    "                 label='filled area between errors',\n",
    "                 alpha=0.5)\n",
    "legend_box = plt.legend(framealpha=1).get_frame()\n",
    "legend_box.set_facecolor(\"white\")\n",
    "legend_box.set_edgecolor(\"black\")\n",
    "plt.xlabel('number of trees')\n",
    "plt.ylabel('roc-auc')\n",
    "\n",
    "plt.show()"
   ]
  },
  {
   "cell_type": "code",
   "execution_count": null,
   "metadata": {},
   "outputs": [],
   "source": [
    "forest = RandomForestClassifier(n_estimators=40, criterion='gini', n_jobs=-1)\n",
    "forest.fit(X_train, y_train)\n",
    "print(roc_auc_score(y_test, forest.predict_proba(X_test)[:, 1]))\n",
    "print(f1_score(y_test, forest.predict(X_test)))\n",
    "print(accuracy_score(y_test, forest.predict(X_test)))\n",
    "print(log_loss(y_test, forest.predict_proba(X_test)[:, 1]))"
   ]
  },
  {
   "cell_type": "markdown",
   "metadata": {},
   "source": [
    "# Исследование результатов Random Tree"
   ]
  },
  {
   "cell_type": "code",
   "execution_count": null,
   "metadata": {},
   "outputs": [],
   "source": [
    "data_score_proba = forest.predict_proba(X_test)\n",
    "data_score_proba = data_score_proba[:,0]\n",
    "for i in range(len(data_score_proba)):\n",
    "    if data_score_proba[i] > 0.95:\n",
    "        data_score_proba[i] = 1\n",
    "    elif data_score_proba[i] > 0.85:\n",
    "        data_score_proba[i] = 0.9\n",
    "    elif data_score_proba[i] > 0.75:\n",
    "        data_score_proba[i] = 0.8\n",
    "    elif data_score_proba[i] > 0.65:\n",
    "        data_score_proba[i] = 0.7\n",
    "    elif data_score_proba[i] > 0.55:\n",
    "        data_score_proba[i] = 0.6\n",
    "    elif data_score_proba[i] > 0.45:\n",
    "        data_score_proba[i] = 0.5\n",
    "    elif data_score_proba[i] > 0.35:\n",
    "        data_score_proba[i] = 0.4\n",
    "    elif data_score_proba[i] > 0.25:\n",
    "        data_score_proba[i] = 0.3\n",
    "    elif data_score_proba[i] > 0.15:\n",
    "        data_score_proba[i] = 0.2\n",
    "    elif data_score_proba[i] > 0.05:\n",
    "        data_score_proba[i] = 0.1\n",
    "    else:\n",
    "        data_score_proba[i] = 0\n",
    "data_score_proba = pd.DataFrame(data_score_proba)\n",
    "data_score_proba['blocked'] = y_test\n",
    "data_score_proba"
   ]
  },
  {
   "cell_type": "code",
   "execution_count": null,
   "metadata": {},
   "outputs": [],
   "source": [
    "data_score = data_score_proba[(data_score_proba[0] > 0.99)]\n",
    "not_blocked = data_score[0][data_score['blocked'] == 0]\n",
    "not_blocked = not_blocked.value_counts()\n",
    "blocked = data_score[0][data_score['blocked'] == 1]\n",
    "blocked = blocked.value_counts()\n",
    "df = {'not blocked': not_blocked, 'blocked': blocked}\n",
    "df = pd.DataFrame(df)\n",
    "df.plot(kind='bar', figsize=(15, 15))\n",
    "plt.title('GB скоринг')\n",
    "plt.show()"
   ]
  },
  {
   "cell_type": "code",
   "execution_count": null,
   "metadata": {},
   "outputs": [],
   "source": [
    "data_score = data_score_proba[(data_score_proba[0] < 1)]\n",
    "not_blocked = data_score[0][data_score['blocked'] == 0]\n",
    "not_blocked = not_blocked.value_counts()\n",
    "blocked = data_score[0][data_score['blocked'] == 1]\n",
    "blocked = blocked.value_counts()\n",
    "df = {'not blocked': not_blocked, 'blocked': blocked}\n",
    "df = pd.DataFrame(df)\n",
    "df.plot(kind='bar', figsize=(15, 15))\n",
    "plt.title('GB скоринг')\n",
    "plt.show()"
   ]
  },
  {
   "cell_type": "code",
   "execution_count": null,
   "metadata": {},
   "outputs": [],
   "source": []
  }
 ],
 "metadata": {
  "kernelspec": {
   "display_name": "Python 3",
   "language": "python",
   "name": "python3"
  },
  "language_info": {
   "codemirror_mode": {
    "name": "ipython",
    "version": 3
   },
   "file_extension": ".py",
   "mimetype": "text/x-python",
   "name": "python",
   "nbconvert_exporter": "python",
   "pygments_lexer": "ipython3",
   "version": "3.8.3"
  }
 },
 "nbformat": 4,
 "nbformat_minor": 4
}
